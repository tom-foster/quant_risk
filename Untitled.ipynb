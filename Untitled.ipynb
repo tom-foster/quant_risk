{
 "cells": [
  {
   "cell_type": "code",
   "execution_count": 9,
   "metadata": {},
   "outputs": [],
   "source": [
    "%matplotlib inline\n",
    "import pandas as pd\n",
    "import numpy as np\n",
    "import matplotlib.pyplot as plt\n"
   ]
  },
  {
   "cell_type": "code",
   "execution_count": 44,
   "metadata": {},
   "outputs": [
    {
     "data": {
      "text/html": [
       "<div>\n",
       "<style scoped>\n",
       "    .dataframe tbody tr th:only-of-type {\n",
       "        vertical-align: middle;\n",
       "    }\n",
       "\n",
       "    .dataframe tbody tr th {\n",
       "        vertical-align: top;\n",
       "    }\n",
       "\n",
       "    .dataframe thead th {\n",
       "        text-align: right;\n",
       "    }\n",
       "</style>\n",
       "<table border=\"1\" class=\"dataframe\">\n",
       "  <thead>\n",
       "    <tr style=\"text-align: right;\">\n",
       "      <th></th>\n",
       "      <th>Low</th>\n",
       "      <th>Medium</th>\n",
       "      <th>High</th>\n",
       "    </tr>\n",
       "  </thead>\n",
       "  <tbody>\n",
       "    <tr>\n",
       "      <td>18</td>\n",
       "      <td>1.279188e+06</td>\n",
       "      <td>1.421320e+06</td>\n",
       "      <td>1.634518e+06</td>\n",
       "    </tr>\n",
       "    <tr>\n",
       "      <td>19</td>\n",
       "      <td>8.367014e+05</td>\n",
       "      <td>9.296683e+05</td>\n",
       "      <td>1.069119e+06</td>\n",
       "    </tr>\n",
       "    <tr>\n",
       "      <td>20</td>\n",
       "      <td>1.571953e+06</td>\n",
       "      <td>1.746614e+06</td>\n",
       "      <td>2.008606e+06</td>\n",
       "    </tr>\n",
       "    <tr>\n",
       "      <td>21</td>\n",
       "      <td>4.759524e+05</td>\n",
       "      <td>5.288360e+05</td>\n",
       "      <td>6.081614e+05</td>\n",
       "    </tr>\n",
       "    <tr>\n",
       "      <td>22</td>\n",
       "      <td>9.757024e+04</td>\n",
       "      <td>1.084114e+05</td>\n",
       "      <td>1.246731e+05</td>\n",
       "    </tr>\n",
       "  </tbody>\n",
       "</table>\n",
       "</div>"
      ],
      "text/plain": [
       "             Low        Medium          High\n",
       "18  1.279188e+06  1.421320e+06  1.634518e+06\n",
       "19  8.367014e+05  9.296683e+05  1.069119e+06\n",
       "20  1.571953e+06  1.746614e+06  2.008606e+06\n",
       "21  4.759524e+05  5.288360e+05  6.081614e+05\n",
       "22  9.757024e+04  1.084114e+05  1.246731e+05"
      ]
     },
     "execution_count": 44,
     "metadata": {},
     "output_type": "execute_result"
    }
   ],
   "source": [
    "list = [1, 2, 3]\n",
    "# np.random.choice?\n",
    "\n",
    "df = pd.read_excel('data/demo_quant.xlsx')\n",
    "# Drop the empty slots 25 > to 22\n",
    "df.dropna(inplace=True)\n",
    "df.reset_index(inplace=True)\n",
    "df.drop(['index'], axis=1, inplace=True)\n",
    "df.tail()\n"
   ]
  },
  {
   "cell_type": "code",
   "execution_count": 50,
   "metadata": {},
   "outputs": [
    {
     "name": "stdout",
     "output_type": "stream",
     "text": [
      "0\n",
      "1\n",
      "2\n"
     ]
    },
    {
     "data": {
      "text/plain": [
       "23"
      ]
     },
     "execution_count": 50,
     "metadata": {},
     "output_type": "execute_result"
    }
   ],
   "source": [
    "# Randomly pick the column name\n",
    "for i in range(len(df.columns)):\n",
    "    print(i)\n",
    "\n",
    "df.iloc[0, 1]\n",
    "df.shape[0]"
   ]
  },
  {
   "cell_type": "code",
   "execution_count": 121,
   "metadata": {},
   "outputs": [],
   "source": [
    "total_sims = np.zeros(2000)\n",
    "for i in range(2000):\n",
    "    sim_cost = np.zeros(df.shape[0])\n",
    "    for index, row in df.iterrows():\n",
    "        rc = df.iloc[index, np.random.choice(range(len(df.columns)))]\n",
    "        sim_cost[index] = rc\n",
    "    total_sims[i] = sim_cost.sum()\n"
   ]
  },
  {
   "cell_type": "code",
   "execution_count": 122,
   "metadata": {},
   "outputs": [
    {
     "data": {
      "text/plain": [
       "(array([  3.,  14.,  30.,  62.,  81., 147., 190., 195., 206., 219., 181.,\n",
       "        158., 170., 111.,  98.,  65.,  40.,  21.,   6.,   3.]),\n",
       " array([20181638.25911061, 20387484.44939808, 20593330.63968554,\n",
       "        20799176.82997301, 21005023.02026047, 21210869.21054794,\n",
       "        21416715.4008354 , 21622561.59112287, 21828407.78141033,\n",
       "        22034253.9716978 , 22240100.16198526, 22445946.35227273,\n",
       "        22651792.5425602 , 22857638.73284766, 23063484.92313513,\n",
       "        23269331.11342259, 23475177.30371006, 23681023.49399752,\n",
       "        23886869.68428499, 24092715.87457245, 24298562.06485992]),\n",
       " <a list of 20 Patch objects>)"
      ]
     },
     "execution_count": 122,
     "metadata": {},
     "output_type": "execute_result"
    },
    {
     "data": {
      "image/png": "[encoded data removed]",
      "text/plain": [
       "<Figure size 432x288 with 1 Axes>"
      ]
     },
     "metadata": {
      "needs_background": "light"
     },
     "output_type": "display_data"
    }
   ],
   "source": [
    "total_sims = pd.Series(total_sims)\n",
    "plt.hist(total_sims, bins=20)"
   ]
  },
  {
   "cell_type": "code",
   "execution_count": 123,
   "metadata": {},
   "outputs": [],
   "source": [
    "def ecdf(data):\n",
    "    \"\"\"Compute ECDF for a one-dimensional array of measurements.\"\"\"\n",
    "    # Number of data points: n\n",
    "    n = len(data)\n",
    "    \n",
    "    #x-data for the ECDF : x\n",
    "    x = np.sort(data)\n",
    "    #y-data for ecdf : y\n",
    "    y = np.arange(1, n+1) / n\n",
    "    return x, y"
   ]
  },
  {
   "cell_type": "code",
   "execution_count": 124,
   "metadata": {},
   "outputs": [
    {
     "data": {
      "image/png": "[encoded data removed]",
      "text/plain": [
       "<Figure size 432x288 with 1 Axes>"
      ]
     },
     "metadata": {
      "needs_background": "light"
     },
     "output_type": "display_data"
    }
   ],
   "source": [
    "ts_x, ts_y = ecdf(total_sims)\n",
    "plt.plot(ts_x, ts_y, marker='.', linestyle='none')\n",
    "plt.xlabel('total costs (£millions)')\n",
    "plt.ylabel('CDF')\n",
    "plt.show()"
   ]
  },
  {
   "cell_type": "markdown",
   "metadata": {},
   "source": []
  }
 ],
 "metadata": {
  "kernelspec": {
   "display_name": "Python 3",
   "language": "python",
   "name": "python3"
  },
  "language_info": {
   "codemirror_mode": {
    "name": "ipython",
    "version": 3
   },
   "file_extension": ".py",
   "mimetype": "text/x-python",
   "name": "python",
   "nbconvert_exporter": "python",
   "pygments_lexer": "ipython3",
   "version": "3.7.3"
  }
 },
 "nbformat": 4,
 "nbformat_minor": 4
}

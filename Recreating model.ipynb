{
 "cells": [
  {
   "cell_type": "code",
   "execution_count": 1,
   "metadata": {},
   "outputs": [],
   "source": [
    "%matplotlib inline\n",
    "import pandas as pd\n",
    "import numpy as np\n",
    "import matplotlib.pyplot as plt\n",
    "import seaborn as sns"
   ]
  },
  {
   "cell_type": "code",
   "execution_count": 2,
   "metadata": {},
   "outputs": [
    {
     "data": {
      "text/html": [
       "<div>\n",
       "<style scoped>\n",
       "    .dataframe tbody tr th:only-of-type {\n",
       "        vertical-align: middle;\n",
       "    }\n",
       "\n",
       "    .dataframe tbody tr th {\n",
       "        vertical-align: top;\n",
       "    }\n",
       "\n",
       "    .dataframe thead th {\n",
       "        text-align: right;\n",
       "    }\n",
       "</style>\n",
       "<table border=\"1\" class=\"dataframe\">\n",
       "  <thead>\n",
       "    <tr style=\"text-align: right;\">\n",
       "      <th></th>\n",
       "      <th>Low</th>\n",
       "      <th>Medium</th>\n",
       "      <th>High</th>\n",
       "    </tr>\n",
       "  </thead>\n",
       "  <tbody>\n",
       "    <tr>\n",
       "      <td>18</td>\n",
       "      <td>1.279188e+06</td>\n",
       "      <td>1.421320e+06</td>\n",
       "      <td>1.634518e+06</td>\n",
       "    </tr>\n",
       "    <tr>\n",
       "      <td>19</td>\n",
       "      <td>8.367014e+05</td>\n",
       "      <td>9.296683e+05</td>\n",
       "      <td>1.069119e+06</td>\n",
       "    </tr>\n",
       "    <tr>\n",
       "      <td>20</td>\n",
       "      <td>1.571953e+06</td>\n",
       "      <td>1.746614e+06</td>\n",
       "      <td>2.008606e+06</td>\n",
       "    </tr>\n",
       "    <tr>\n",
       "      <td>21</td>\n",
       "      <td>4.759524e+05</td>\n",
       "      <td>5.288360e+05</td>\n",
       "      <td>6.081614e+05</td>\n",
       "    </tr>\n",
       "    <tr>\n",
       "      <td>22</td>\n",
       "      <td>9.757024e+04</td>\n",
       "      <td>1.084114e+05</td>\n",
       "      <td>1.246731e+05</td>\n",
       "    </tr>\n",
       "  </tbody>\n",
       "</table>\n",
       "</div>"
      ],
      "text/plain": [
       "             Low        Medium          High\n",
       "18  1.279188e+06  1.421320e+06  1.634518e+06\n",
       "19  8.367014e+05  9.296683e+05  1.069119e+06\n",
       "20  1.571953e+06  1.746614e+06  2.008606e+06\n",
       "21  4.759524e+05  5.288360e+05  6.081614e+05\n",
       "22  9.757024e+04  1.084114e+05  1.246731e+05"
      ]
     },
     "execution_count": 2,
     "metadata": {},
     "output_type": "execute_result"
    }
   ],
   "source": [
    "list = [1, 2, 3]\n",
    "# np.random.choice?\n",
    "\n",
    "df = pd.read_excel('data/demo_quant.xlsx')\n",
    "# Drop the empty slots 25 > to 22\n",
    "df.dropna(inplace=True)\n",
    "df.reset_index(inplace=True)\n",
    "df.drop(['index'], axis=1, inplace=True)\n",
    "df.tail()\n"
   ]
  },
  {
   "cell_type": "code",
   "execution_count": 3,
   "metadata": {},
   "outputs": [
    {
     "name": "stdout",
     "output_type": "stream",
     "text": [
      "0\n",
      "1\n",
      "2\n"
     ]
    },
    {
     "data": {
      "text/plain": [
       "23"
      ]
     },
     "execution_count": 3,
     "metadata": {},
     "output_type": "execute_result"
    }
   ],
   "source": [
    "# Randomly pick the column name\n",
    "for i in range(len(df.columns)):\n",
    "    print(i)\n",
    "\n",
    "df.iloc[0, 1]\n",
    "df.shape[0]"
   ]
  },
  {
   "cell_type": "markdown",
   "metadata": {},
   "source": [
    "# Running the simulation only on Low, Medium, High outputs"
   ]
  },
  {
   "cell_type": "code",
   "execution_count": 4,
   "metadata": {},
   "outputs": [],
   "source": [
    "total_sims = np.zeros(2000)\n",
    "for i in range(2000):\n",
    "    sim_cost = np.zeros(df.shape[0])\n",
    "    for index, row in df.iterrows():\n",
    "        rc = df.iloc[index, np.random.choice(range(len(df.columns)))]\n",
    "        sim_cost[index] = rc\n",
    "    total_sims[i] = sim_cost.sum()\n"
   ]
  },
  {
   "cell_type": "code",
   "execution_count": 5,
   "metadata": {},
   "outputs": [
    {
     "data": {
      "text/plain": [
       "(array([  7.,  17.,  29.,  62., 116., 137., 181., 196., 235., 214., 182.,\n",
       "        194., 138., 120.,  83.,  45.,  25.,   9.,   9.,   1.]),\n",
       " array([20214373.14568223, 20426640.9718819 , 20638908.79808156,\n",
       "        20851176.62428123, 21063444.45048089, 21275712.27668056,\n",
       "        21487980.10288022, 21700247.92907989, 21912515.75527956,\n",
       "        22124783.58147922, 22337051.40767889, 22549319.23387855,\n",
       "        22761587.06007822, 22973854.88627788, 23186122.71247755,\n",
       "        23398390.53867722, 23610658.36487688, 23822926.19107655,\n",
       "        24035194.01727621, 24247461.84347588, 24459729.66967554]),\n",
       " <a list of 20 Patch objects>)"
      ]
     },
     "execution_count": 5,
     "metadata": {},
     "output_type": "execute_result"
    },
    {
     "data": {
      "image/png": "[encoded data removed]",
      "text/plain": [
       "<Figure size 432x288 with 1 Axes>"
      ]
     },
     "metadata": {
      "needs_background": "light"
     },
     "output_type": "display_data"
    }
   ],
   "source": [
    "total_sims = pd.Series(total_sims)\n",
    "plt.hist(total_sims, bins=20)"
   ]
  },
  {
   "cell_type": "code",
   "execution_count": 6,
   "metadata": {},
   "outputs": [],
   "source": [
    "def ecdf(data):\n",
    "    \"\"\"Compute ECDF for a one-dimensional array of measurements.\"\"\"\n",
    "    # Number of data points: n\n",
    "    n = len(data)\n",
    "    \n",
    "    #x-data for the ECDF : x\n",
    "    x = np.sort(data)\n",
    "    #y-data for ecdf : y\n",
    "    y = np.arange(1, n+1) / n\n",
    "    return x, y"
   ]
  },
  {
   "cell_type": "code",
   "execution_count": 7,
   "metadata": {},
   "outputs": [
    {
     "data": {
      "image/png": "[encoded data removed]",
      "text/plain": [
       "<Figure size 432x288 with 1 Axes>"
      ]
     },
     "metadata": {
      "needs_background": "light"
     },
     "output_type": "display_data"
    }
   ],
   "source": [
    "ts_x, ts_y = ecdf(total_sims)\n",
    "plt.plot(ts_x, ts_y, marker='.', linestyle='none')\n",
    "plt.xlabel('total costs (£millions)')\n",
    "plt.ylabel('CDF')\n",
    "plt.show()"
   ]
  },
  {
   "cell_type": "markdown",
   "metadata": {},
   "source": [
    "# Running model against Low, Medium, High costs, including Estimated uncertainty\n",
    "\n",
    "The model summary given appears to work with both low, medium (most likely) and high costs, but it also seems to include estimated uncertainty as a separate one."
   ]
  },
  {
   "cell_type": "code",
   "execution_count": 11,
   "metadata": {},
   "outputs": [
    {
     "data": {
      "text/html": [
       "<div>\n",
       "<style scoped>\n",
       "    .dataframe tbody tr th:only-of-type {\n",
       "        vertical-align: middle;\n",
       "    }\n",
       "\n",
       "    .dataframe tbody tr th {\n",
       "        vertical-align: top;\n",
       "    }\n",
       "\n",
       "    .dataframe thead th {\n",
       "        text-align: right;\n",
       "    }\n",
       "</style>\n",
       "<table border=\"1\" class=\"dataframe\">\n",
       "  <thead>\n",
       "    <tr style=\"text-align: right;\">\n",
       "      <th></th>\n",
       "      <th>EU L</th>\n",
       "      <th>EU H</th>\n",
       "      <th>Low</th>\n",
       "      <th>Medium</th>\n",
       "      <th>High</th>\n",
       "    </tr>\n",
       "  </thead>\n",
       "  <tbody>\n",
       "    <tr>\n",
       "      <td>3</td>\n",
       "      <td>-0.10</td>\n",
       "      <td>0.15</td>\n",
       "      <td>6.438260e+05</td>\n",
       "      <td>7.153622e+05</td>\n",
       "      <td>8.226666e+05</td>\n",
       "    </tr>\n",
       "    <tr>\n",
       "      <td>4</td>\n",
       "      <td>-0.10</td>\n",
       "      <td>0.15</td>\n",
       "      <td>4.381845e+06</td>\n",
       "      <td>4.868717e+06</td>\n",
       "      <td>5.599025e+06</td>\n",
       "    </tr>\n",
       "    <tr>\n",
       "      <td>5</td>\n",
       "      <td>-0.10</td>\n",
       "      <td>0.15</td>\n",
       "      <td>1.406315e+06</td>\n",
       "      <td>1.562573e+06</td>\n",
       "      <td>1.796959e+06</td>\n",
       "    </tr>\n",
       "    <tr>\n",
       "      <td>6</td>\n",
       "      <td>-0.10</td>\n",
       "      <td>0.15</td>\n",
       "      <td>4.413078e+05</td>\n",
       "      <td>4.903420e+05</td>\n",
       "      <td>5.638933e+05</td>\n",
       "    </tr>\n",
       "    <tr>\n",
       "      <td>7</td>\n",
       "      <td>-0.10</td>\n",
       "      <td>0.15</td>\n",
       "      <td>2.591597e+05</td>\n",
       "      <td>2.879552e+05</td>\n",
       "      <td>3.311485e+05</td>\n",
       "    </tr>\n",
       "    <tr>\n",
       "      <td>8</td>\n",
       "      <td>-0.25</td>\n",
       "      <td>0.25</td>\n",
       "      <td>7.417555e+04</td>\n",
       "      <td>9.890074e+04</td>\n",
       "      <td>1.236259e+05</td>\n",
       "    </tr>\n",
       "    <tr>\n",
       "      <td>9</td>\n",
       "      <td>-0.10</td>\n",
       "      <td>0.15</td>\n",
       "      <td>1.286036e+05</td>\n",
       "      <td>1.428929e+05</td>\n",
       "      <td>1.643268e+05</td>\n",
       "    </tr>\n",
       "    <tr>\n",
       "      <td>10</td>\n",
       "      <td>-0.10</td>\n",
       "      <td>0.15</td>\n",
       "      <td>3.393455e+05</td>\n",
       "      <td>3.770506e+05</td>\n",
       "      <td>4.336082e+05</td>\n",
       "    </tr>\n",
       "    <tr>\n",
       "      <td>11</td>\n",
       "      <td>-0.10</td>\n",
       "      <td>0.15</td>\n",
       "      <td>1.780892e+06</td>\n",
       "      <td>1.978768e+06</td>\n",
       "      <td>2.275584e+06</td>\n",
       "    </tr>\n",
       "    <tr>\n",
       "      <td>12</td>\n",
       "      <td>-0.10</td>\n",
       "      <td>0.15</td>\n",
       "      <td>7.150793e+05</td>\n",
       "      <td>7.945326e+05</td>\n",
       "      <td>9.137124e+05</td>\n",
       "    </tr>\n",
       "    <tr>\n",
       "      <td>13</td>\n",
       "      <td>-0.10</td>\n",
       "      <td>0.15</td>\n",
       "      <td>6.673704e+04</td>\n",
       "      <td>7.415226e+04</td>\n",
       "      <td>8.527510e+04</td>\n",
       "    </tr>\n",
       "    <tr>\n",
       "      <td>14</td>\n",
       "      <td>-0.10</td>\n",
       "      <td>0.15</td>\n",
       "      <td>3.290586e+05</td>\n",
       "      <td>3.656207e+05</td>\n",
       "      <td>4.204638e+05</td>\n",
       "    </tr>\n",
       "    <tr>\n",
       "      <td>15</td>\n",
       "      <td>-0.10</td>\n",
       "      <td>0.15</td>\n",
       "      <td>1.417500e+06</td>\n",
       "      <td>1.575000e+06</td>\n",
       "      <td>1.811250e+06</td>\n",
       "    </tr>\n",
       "    <tr>\n",
       "      <td>16</td>\n",
       "      <td>-0.10</td>\n",
       "      <td>0.15</td>\n",
       "      <td>4.737637e+05</td>\n",
       "      <td>5.264041e+05</td>\n",
       "      <td>6.053647e+05</td>\n",
       "    </tr>\n",
       "    <tr>\n",
       "      <td>17</td>\n",
       "      <td>-0.10</td>\n",
       "      <td>0.15</td>\n",
       "      <td>2.558376e+06</td>\n",
       "      <td>2.842640e+06</td>\n",
       "      <td>3.269035e+06</td>\n",
       "    </tr>\n",
       "    <tr>\n",
       "      <td>18</td>\n",
       "      <td>-0.10</td>\n",
       "      <td>0.15</td>\n",
       "      <td>1.279188e+06</td>\n",
       "      <td>1.421320e+06</td>\n",
       "      <td>1.634518e+06</td>\n",
       "    </tr>\n",
       "    <tr>\n",
       "      <td>19</td>\n",
       "      <td>-0.10</td>\n",
       "      <td>0.15</td>\n",
       "      <td>8.367014e+05</td>\n",
       "      <td>9.296683e+05</td>\n",
       "      <td>1.069119e+06</td>\n",
       "    </tr>\n",
       "    <tr>\n",
       "      <td>20</td>\n",
       "      <td>-0.10</td>\n",
       "      <td>0.15</td>\n",
       "      <td>1.571953e+06</td>\n",
       "      <td>1.746614e+06</td>\n",
       "      <td>2.008606e+06</td>\n",
       "    </tr>\n",
       "    <tr>\n",
       "      <td>21</td>\n",
       "      <td>-0.10</td>\n",
       "      <td>0.15</td>\n",
       "      <td>4.759524e+05</td>\n",
       "      <td>5.288360e+05</td>\n",
       "      <td>6.081614e+05</td>\n",
       "    </tr>\n",
       "    <tr>\n",
       "      <td>22</td>\n",
       "      <td>-0.10</td>\n",
       "      <td>0.15</td>\n",
       "      <td>9.757024e+04</td>\n",
       "      <td>1.084114e+05</td>\n",
       "      <td>1.246731e+05</td>\n",
       "    </tr>\n",
       "  </tbody>\n",
       "</table>\n",
       "</div>"
      ],
      "text/plain": [
       "    EU L  EU H           Low        Medium          High\n",
       "3  -0.10  0.15  6.438260e+05  7.153622e+05  8.226666e+05\n",
       "4  -0.10  0.15  4.381845e+06  4.868717e+06  5.599025e+06\n",
       "5  -0.10  0.15  1.406315e+06  1.562573e+06  1.796959e+06\n",
       "6  -0.10  0.15  4.413078e+05  4.903420e+05  5.638933e+05\n",
       "7  -0.10  0.15  2.591597e+05  2.879552e+05  3.311485e+05\n",
       "8  -0.25  0.25  7.417555e+04  9.890074e+04  1.236259e+05\n",
       "9  -0.10  0.15  1.286036e+05  1.428929e+05  1.643268e+05\n",
       "10 -0.10  0.15  3.393455e+05  3.770506e+05  4.336082e+05\n",
       "11 -0.10  0.15  1.780892e+06  1.978768e+06  2.275584e+06\n",
       "12 -0.10  0.15  7.150793e+05  7.945326e+05  9.137124e+05\n",
       "13 -0.10  0.15  6.673704e+04  7.415226e+04  8.527510e+04\n",
       "14 -0.10  0.15  3.290586e+05  3.656207e+05  4.204638e+05\n",
       "15 -0.10  0.15  1.417500e+06  1.575000e+06  1.811250e+06\n",
       "16 -0.10  0.15  4.737637e+05  5.264041e+05  6.053647e+05\n",
       "17 -0.10  0.15  2.558376e+06  2.842640e+06  3.269035e+06\n",
       "18 -0.10  0.15  1.279188e+06  1.421320e+06  1.634518e+06\n",
       "19 -0.10  0.15  8.367014e+05  9.296683e+05  1.069119e+06\n",
       "20 -0.10  0.15  1.571953e+06  1.746614e+06  2.008606e+06\n",
       "21 -0.10  0.15  4.759524e+05  5.288360e+05  6.081614e+05\n",
       "22 -0.10  0.15  9.757024e+04  1.084114e+05  1.246731e+05"
      ]
     },
     "execution_count": 11,
     "metadata": {},
     "output_type": "execute_result"
    }
   ],
   "source": [
    "df1 = pd.read_excel('data/demo_quant_eu.xlsx')\n",
    "# Drop the empty slots 25 - 22\n",
    "df1.dropna(inplace=True)\n",
    "df1.reset_index(inplace=True)\n",
    "df1.drop(['index'], axis=1, inplace=True)"
   ]
  },
  {
   "cell_type": "code",
   "execution_count": 26,
   "metadata": {},
   "outputs": [],
   "source": [
    "total_sims = np.zeros(2000)\n",
    "for i in range(2000):\n",
    "    sim_cost = np.zeros(df1.shape[0])\n",
    "    for index, row in df.iterrows():\n",
    "        eu = df1.iloc[index, np.random.choice(range(0, 2))]\n",
    "        rc = df1.iloc[index, np.random.choice(range(2, 5))]\n",
    "        sim_cost[index] = rc + (eu * rc)\n",
    "    total_sims[i] = sim_cost.sum()\n"
   ]
  },
  {
   "cell_type": "code",
   "execution_count": 27,
   "metadata": {},
   "outputs": [],
   "source": [
    "# Verify \n",
    "# df1.iloc[0, 1] * df1.iloc[0, 4] + df1.iloc[0, 4]\n",
    "# df1.iloc[0, 0] * df1.iloc[0, 4] + df1.iloc[0, 4]"
   ]
  },
  {
   "cell_type": "code",
   "execution_count": 28,
   "metadata": {},
   "outputs": [
    {
     "data": {
      "text/plain": [
       "(array([  3.,   8.,  20.,  48.,  82., 126., 205., 246., 240., 250., 195.,\n",
       "        179., 130., 126.,  52.,  37.,  22.,  23.,   4.,   4.]),\n",
       " array([19277182.99918767, 19645516.32804127, 20013849.65689487,\n",
       "        20382182.98574847, 20750516.31460207, 21118849.64345567,\n",
       "        21487182.97230927, 21855516.30116287, 22223849.63001647,\n",
       "        22592182.95887007, 22960516.28772367, 23328849.61657727,\n",
       "        23697182.94543087, 24065516.27428447, 24433849.60313807,\n",
       "        24802182.93199167, 25170516.26084527, 25538849.58969887,\n",
       "        25907182.91855247, 26275516.24740607, 26643849.57625967]),\n",
       " <a list of 20 Patch objects>)"
      ]
     },
     "execution_count": 28,
     "metadata": {},
     "output_type": "execute_result"
    },
    {
     "data": {
      "image/png": "[encoded data removed]",
      "text/plain": [
       "<Figure size 432x288 with 1 Axes>"
      ]
     },
     "metadata": {
      "needs_background": "light"
     },
     "output_type": "display_data"
    }
   ],
   "source": [
    "total_sims = pd.Series(total_sims)\n",
    "plt.hist(total_sims, bins=20)\n"
   ]
  },
  {
   "cell_type": "code",
   "execution_count": 29,
   "metadata": {},
   "outputs": [
    {
     "data": {
      "image/png": "[encoded data removed]",
      "text/plain": [
       "<Figure size 432x288 with 1 Axes>"
      ]
     },
     "metadata": {
      "needs_background": "light"
     },
     "output_type": "display_data"
    }
   ],
   "source": [
    "ts_x, ts_y = ecdf(total_sims)\n",
    "plt.plot(ts_x, ts_y, marker='.', linestyle='none')\n",
    "plt.xlabel('total costs £millions')\n",
    "plt.ylabel('CDF')\n",
    "plt.show()"
   ]
  },
  {
   "cell_type": "code",
   "execution_count": 30,
   "metadata": {},
   "outputs": [
    {
     "data": {
      "text/plain": [
       "22700073.397782914"
      ]
     },
     "execution_count": 30,
     "metadata": {},
     "output_type": "execute_result"
    }
   ],
   "source": [
    "total_sims.mean()"
   ]
  },
  {
   "cell_type": "code",
   "execution_count": 31,
   "metadata": {},
   "outputs": [
    {
     "data": {
      "text/plain": [
       "22627968.725598253"
      ]
     },
     "execution_count": 31,
     "metadata": {},
     "output_type": "execute_result"
    }
   ],
   "source": [
    "total_sims.median()"
   ]
  },
  {
   "cell_type": "code",
   "execution_count": 32,
   "metadata": {},
   "outputs": [
    {
     "data": {
      "text/plain": [
       "26643849.576259673"
      ]
     },
     "execution_count": 32,
     "metadata": {},
     "output_type": "execute_result"
    }
   ],
   "source": [
    "total_sims.max()"
   ]
  },
  {
   "cell_type": "code",
   "execution_count": null,
   "metadata": {},
   "outputs": [],
   "source": []
  }
 ],
 "metadata": {
  "kernelspec": {
   "display_name": "Python 3",
   "language": "python",
   "name": "python3"
  },
  "language_info": {
   "codemirror_mode": {
    "name": "ipython",
    "version": 3
   },
   "file_extension": ".py",
   "mimetype": "text/x-python",
   "name": "python",
   "nbconvert_exporter": "python",
   "pygments_lexer": "ipython3",
   "version": "3.7.3"
  }
 },
 "nbformat": 4,
 "nbformat_minor": 4
}

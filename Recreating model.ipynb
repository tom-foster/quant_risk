{
 "cells": [
  {
   "cell_type": "code",
   "execution_count": 20,
   "metadata": {},
   "outputs": [],
   "source": [
    "%matplotlib inline\n",
    "import pandas as pd\n",
    "import numpy as np\n",
    "import matplotlib.pyplot as plt\n",
    "import seaborn as sns\n",
    "from scipy.stats import skew, kurtosis"
   ]
  },
  {
   "cell_type": "code",
   "execution_count": 3,
   "metadata": {},
   "outputs": [
    {
     "data": {
      "text/html": [
       "<div>\n",
       "<style scoped>\n",
       "    .dataframe tbody tr th:only-of-type {\n",
       "        vertical-align: middle;\n",
       "    }\n",
       "\n",
       "    .dataframe tbody tr th {\n",
       "        vertical-align: top;\n",
       "    }\n",
       "\n",
       "    .dataframe thead th {\n",
       "        text-align: right;\n",
       "    }\n",
       "</style>\n",
       "<table border=\"1\" class=\"dataframe\">\n",
       "  <thead>\n",
       "    <tr style=\"text-align: right;\">\n",
       "      <th></th>\n",
       "      <th>Low</th>\n",
       "      <th>Medium</th>\n",
       "      <th>High</th>\n",
       "    </tr>\n",
       "  </thead>\n",
       "  <tbody>\n",
       "    <tr>\n",
       "      <td>18</td>\n",
       "      <td>1.279188e+06</td>\n",
       "      <td>1.421320e+06</td>\n",
       "      <td>1.634518e+06</td>\n",
       "    </tr>\n",
       "    <tr>\n",
       "      <td>19</td>\n",
       "      <td>8.367014e+05</td>\n",
       "      <td>9.296683e+05</td>\n",
       "      <td>1.069119e+06</td>\n",
       "    </tr>\n",
       "    <tr>\n",
       "      <td>20</td>\n",
       "      <td>1.571953e+06</td>\n",
       "      <td>1.746614e+06</td>\n",
       "      <td>2.008606e+06</td>\n",
       "    </tr>\n",
       "    <tr>\n",
       "      <td>21</td>\n",
       "      <td>4.759524e+05</td>\n",
       "      <td>5.288360e+05</td>\n",
       "      <td>6.081614e+05</td>\n",
       "    </tr>\n",
       "    <tr>\n",
       "      <td>22</td>\n",
       "      <td>9.757024e+04</td>\n",
       "      <td>1.084114e+05</td>\n",
       "      <td>1.246731e+05</td>\n",
       "    </tr>\n",
       "  </tbody>\n",
       "</table>\n",
       "</div>"
      ],
      "text/plain": [
       "             Low        Medium          High\n",
       "18  1.279188e+06  1.421320e+06  1.634518e+06\n",
       "19  8.367014e+05  9.296683e+05  1.069119e+06\n",
       "20  1.571953e+06  1.746614e+06  2.008606e+06\n",
       "21  4.759524e+05  5.288360e+05  6.081614e+05\n",
       "22  9.757024e+04  1.084114e+05  1.246731e+05"
      ]
     },
     "execution_count": 3,
     "metadata": {},
     "output_type": "execute_result"
    }
   ],
   "source": [
    "list = [1, 2, 3]\n",
    "# np.random.choice?\n",
    "\n",
    "df = pd.read_excel('data/demo_quant.xlsx')\n",
    "# Drop the empty slots 25 > to 22\n",
    "df.dropna(inplace=True)\n",
    "df.reset_index(inplace=True)\n",
    "df.drop(['index'], axis=1, inplace=True)\n",
    "df.tail()\n"
   ]
  },
  {
   "cell_type": "code",
   "execution_count": 4,
   "metadata": {},
   "outputs": [
    {
     "name": "stdout",
     "output_type": "stream",
     "text": [
      "0\n",
      "1\n",
      "2\n"
     ]
    },
    {
     "data": {
      "text/plain": [
       "23"
      ]
     },
     "execution_count": 4,
     "metadata": {},
     "output_type": "execute_result"
    }
   ],
   "source": [
    "# Randomly pick the column name\n",
    "for i in range(len(df.columns)):\n",
    "    print(i)\n",
    "\n",
    "df.iloc[0, 1]\n",
    "df.shape[0]"
   ]
  },
  {
   "cell_type": "markdown",
   "metadata": {},
   "source": [
    "# Running the simulation only on Low, Medium, High outputs"
   ]
  },
  {
   "cell_type": "code",
   "execution_count": 5,
   "metadata": {},
   "outputs": [],
   "source": [
    "total_sims = np.zeros(10000)\n",
    "for i in range(10000):\n",
    "    sim_cost = np.zeros(df.shape[0])\n",
    "    for index, row in df.iterrows():\n",
    "        rc = df.iloc[index, np.random.choice(range(len(df.columns)))]\n",
    "        sim_cost[index] = rc\n",
    "    total_sims[i] = sim_cost.sum()\n"
   ]
  },
  {
   "cell_type": "code",
   "execution_count": 6,
   "metadata": {},
   "outputs": [
    {
     "data": {
      "text/plain": [
       "(array([   3.,   13.,   79.,  152.,  361.,  576.,  809., 1037., 1146.,\n",
       "        1218., 1157., 1094.,  842.,  669.,  425.,  234.,  119.,   47.,\n",
       "          13.,    6.]),\n",
       " array([19871354.52387589, 20106798.91018134, 20342243.29648678,\n",
       "        20577687.68279222, 20813132.06909766, 21048576.4554031 ,\n",
       "        21284020.84170855, 21519465.22801399, 21754909.61431943,\n",
       "        21990354.00062487, 22225798.38693032, 22461242.77323576,\n",
       "        22696687.1595412 , 22932131.54584664, 23167575.93215209,\n",
       "        23403020.31845753, 23638464.70476297, 23873909.09106841,\n",
       "        24109353.47737386, 24344797.8636793 , 24580242.24998474]),\n",
       " <a list of 20 Patch objects>)"
      ]
     },
     "execution_count": 6,
     "metadata": {},
     "output_type": "execute_result"
    },
    {
     "data": {
      "image/png": "[encoded data removed]",
      "text/plain": [
       "<Figure size 432x288 with 1 Axes>"
      ]
     },
     "metadata": {
      "needs_background": "light"
     },
     "output_type": "display_data"
    }
   ],
   "source": [
    "total_sims = pd.Series(total_sims)\n",
    "plt.hist(total_sims, bins=20)"
   ]
  },
  {
   "cell_type": "code",
   "execution_count": 7,
   "metadata": {},
   "outputs": [],
   "source": [
    "def ecdf(data):\n",
    "    \"\"\"Compute ECDF for a one-dimensional array of measurements.\"\"\"\n",
    "    # Number of data points: n\n",
    "    n = len(data)\n",
    "    \n",
    "    #x-data for the ECDF : x\n",
    "    x = np.sort(data)\n",
    "    #y-data for ecdf : y\n",
    "    y = np.arange(1, n+1) / n\n",
    "    return x, y"
   ]
  },
  {
   "cell_type": "code",
   "execution_count": 8,
   "metadata": {},
   "outputs": [
    {
     "data": {
      "image/png": "[encoded data removed]",
      "text/plain": [
       "<Figure size 432x288 with 1 Axes>"
      ]
     },
     "metadata": {
      "needs_background": "light"
     },
     "output_type": "display_data"
    }
   ],
   "source": [
    "ts_x, ts_y = ecdf(total_sims)\n",
    "plt.plot(ts_x, ts_y, marker='.', linestyle='none')\n",
    "plt.xlabel('total costs (£millions)')\n",
    "plt.ylabel('CDF')\n",
    "plt.show()"
   ]
  },
  {
   "cell_type": "markdown",
   "metadata": {},
   "source": [
    "# Skew + kurtosis"
   ]
  },
  {
   "cell_type": "code",
   "execution_count": 19,
   "metadata": {},
   "outputs": [
    {
     "data": {
      "text/plain": [
       "0.1361687855675262"
      ]
     },
     "execution_count": 19,
     "metadata": {},
     "output_type": "execute_result"
    }
   ],
   "source": [
    "skew(total_sims)"
   ]
  },
  {
   "cell_type": "code",
   "execution_count": 24,
   "metadata": {},
   "outputs": [
    {
     "data": {
      "text/plain": [
       "2.8060093268023434"
      ]
     },
     "execution_count": 24,
     "metadata": {},
     "output_type": "execute_result"
    }
   ],
   "source": [
    "# You need to add 3 to get kurtosis, scipy.stats is using excess kurtosis\n",
    "kurtosis(total_sims) + 3"
   ]
  },
  {
   "cell_type": "markdown",
   "metadata": {},
   "source": [
    "# Running model against Low, Medium, High costs, including Estimated uncertainty\n",
    "\n",
    "The model summary given appears to work with both low, medium (most likely) and high costs, but it also seems to include estimated uncertainty as a separate one."
   ]
  },
  {
   "cell_type": "code",
   "execution_count": 9,
   "metadata": {},
   "outputs": [],
   "source": [
    "df1 = pd.read_excel('data/demo_quant_eu.xlsx')\n",
    "# Drop the empty slots 25 - 22\n",
    "df1.dropna(inplace=True)\n",
    "df1.reset_index(inplace=True)\n",
    "df1.drop(['index'], axis=1, inplace=True)"
   ]
  },
  {
   "cell_type": "code",
   "execution_count": 10,
   "metadata": {},
   "outputs": [],
   "source": [
    "total_sims = np.zeros(10000)\n",
    "for i in range(10000):\n",
    "    sim_cost = np.zeros(df1.shape[0])\n",
    "    for index, row in df.iterrows():\n",
    "        eu = df1.iloc[index, np.random.choice(range(0, 2))]\n",
    "        rc = df1.iloc[index, np.random.choice(range(2, 5))]\n",
    "        sim_cost[index] = rc + (eu * rc)\n",
    "    total_sims[i] = sim_cost.sum()\n"
   ]
  },
  {
   "cell_type": "code",
   "execution_count": 11,
   "metadata": {},
   "outputs": [],
   "source": [
    "# Verify \n",
    "# df1.iloc[0, 1] * df1.iloc[0, 4] + df1.iloc[0, 4]\n",
    "# df1.iloc[0, 0] * df1.iloc[0, 4] + df1.iloc[0, 4]"
   ]
  },
  {
   "cell_type": "code",
   "execution_count": 12,
   "metadata": {},
   "outputs": [
    {
     "data": {
      "text/plain": [
       "(array([  21.,   54.,  127.,  255.,  478.,  711.,  949., 1193., 1253.,\n",
       "        1188., 1077.,  920.,  675.,  474.,  292.,  190.,   84.,   39.,\n",
       "          13.,    7.]),\n",
       " array([19323775.37991026, 19696260.62163201, 20068745.86335376,\n",
       "        20441231.10507551, 20813716.34679726, 21186201.58851901,\n",
       "        21558686.83024076, 21931172.07196251, 22303657.31368426,\n",
       "        22676142.55540601, 23048627.79712776, 23421113.03884951,\n",
       "        23793598.28057126, 24166083.52229301, 24538568.76401476,\n",
       "        24911054.00573651, 25283539.24745826, 25656024.48918001,\n",
       "        26028509.73090176, 26400994.97262351, 26773480.21434526]),\n",
       " <a list of 20 Patch objects>)"
      ]
     },
     "execution_count": 12,
     "metadata": {},
     "output_type": "execute_result"
    },
    {
     "data": {
      "image/png": "[encoded data removed]",
      "text/plain": [
       "<Figure size 432x288 with 1 Axes>"
      ]
     },
     "metadata": {
      "needs_background": "light"
     },
     "output_type": "display_data"
    }
   ],
   "source": [
    "total_sims = pd.Series(total_sims)\n",
    "plt.hist(total_sims, bins=20)\n"
   ]
  },
  {
   "cell_type": "code",
   "execution_count": 13,
   "metadata": {},
   "outputs": [
    {
     "data": {
      "image/png": "[encoded data removed]",
      "text/plain": [
       "<Figure size 432x288 with 1 Axes>"
      ]
     },
     "metadata": {
      "needs_background": "light"
     },
     "output_type": "display_data"
    }
   ],
   "source": [
    "ts_x, ts_y = ecdf(total_sims)\n",
    "plt.plot(ts_x, ts_y, marker='.', linestyle='none')\n",
    "plt.xlabel('total costs £millions')\n",
    "plt.ylabel('CDF')\n",
    "plt.show()"
   ]
  },
  {
   "cell_type": "code",
   "execution_count": 14,
   "metadata": {},
   "outputs": [
    {
     "data": {
      "text/plain": [
       "22703929.512301102"
      ]
     },
     "execution_count": 14,
     "metadata": {},
     "output_type": "execute_result"
    }
   ],
   "source": [
    "total_sims.mean()"
   ]
  },
  {
   "cell_type": "code",
   "execution_count": 15,
   "metadata": {},
   "outputs": [
    {
     "data": {
      "text/plain": [
       "22667089.646772142"
      ]
     },
     "execution_count": 15,
     "metadata": {},
     "output_type": "execute_result"
    }
   ],
   "source": [
    "total_sims.median()"
   ]
  },
  {
   "cell_type": "code",
   "execution_count": 16,
   "metadata": {},
   "outputs": [
    {
     "data": {
      "text/plain": [
       "26773480.214345258"
      ]
     },
     "execution_count": 16,
     "metadata": {},
     "output_type": "execute_result"
    }
   ],
   "source": [
    "total_sims.max()"
   ]
  },
  {
   "cell_type": "markdown",
   "metadata": {},
   "source": [
    "# Skew + kurtosis"
   ]
  },
  {
   "cell_type": "code",
   "execution_count": 18,
   "metadata": {},
   "outputs": [
    {
     "data": {
      "text/plain": [
       "0.1361687855675262"
      ]
     },
     "execution_count": 18,
     "metadata": {},
     "output_type": "execute_result"
    }
   ],
   "source": [
    "skew(total_sims)"
   ]
  },
  {
   "cell_type": "code",
   "execution_count": 23,
   "metadata": {},
   "outputs": [
    {
     "data": {
      "text/plain": [
       "2.8060093268023434"
      ]
     },
     "execution_count": 23,
     "metadata": {},
     "output_type": "execute_result"
    }
   ],
   "source": [
    "# You need to add 3 to get kurtosis, scipy.stats is using excess kurtosis\n",
    "kurtosis(total_sims) + 3"
   ]
  },
  {
   "cell_type": "code",
   "execution_count": null,
   "metadata": {},
   "outputs": [],
   "source": []
  }
 ],
 "metadata": {
  "kernelspec": {
   "display_name": "Python 3",
   "language": "python",
   "name": "python3"
  },
  "language_info": {
   "codemirror_mode": {
    "name": "ipython",
    "version": 3
   },
   "file_extension": ".py",
   "mimetype": "text/x-python",
   "name": "python",
   "nbconvert_exporter": "python",
   "pygments_lexer": "ipython3",
   "version": "3.7.3"
  }
 },
 "nbformat": 4,
 "nbformat_minor": 4
}
